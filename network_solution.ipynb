{
 "cells": [
  {
   "cell_type": "code",
   "execution_count": null,
   "outputs": [],
   "source": [
    "%load_ext autoreload\n",
    "%autoreload 2"
   ],
   "metadata": {
    "collapsed": false,
    "pycharm": {
     "name": "#%%\n"
    }
   }
  },
  {
   "cell_type": "code",
   "execution_count": null,
   "outputs": [],
   "source": [
    "import numpy as np\n",
    "\n",
    "from torch_model.train import train_classifier\n",
    "from torch_model.predict import make_prediction\n",
    "from torch_model.dataset import NewsDataset\n",
    "from torch.utils.data import DataLoader\n",
    "from src import utils"
   ],
   "metadata": {
    "collapsed": false,
    "pycharm": {
     "name": "#%%\n"
    }
   }
  },
  {
   "cell_type": "code",
   "execution_count": null,
   "outputs": [],
   "source": [
    "main_path = \"/Users/polarized_d/PycharmProjects/CourseProjectNLP/\""
   ],
   "metadata": {
    "collapsed": false,
    "pycharm": {
     "name": "#%%\n"
    }
   }
  },
  {
   "cell_type": "code",
   "execution_count": null,
   "outputs": [],
   "source": [
    "data = np.loadtxt(\"./data/data_tfidf_emb.csv\")"
   ],
   "metadata": {
    "collapsed": false,
    "pycharm": {
     "name": "#%%\n"
    }
   }
  },
  {
   "cell_type": "code",
   "execution_count": null,
   "outputs": [],
   "source": [
    "n_classes = len(np.unique(data[:, -1]))"
   ],
   "metadata": {
    "collapsed": false,
    "pycharm": {
     "name": "#%%\n"
    }
   }
  },
  {
   "cell_type": "code",
   "execution_count": null,
   "outputs": [],
   "source": [
    "x, y = data[:, :-1], data[:, -1]\n",
    "\n",
    "(x_train, y_train), (x_valid, y_valid), (x_test, y_test) = utils.split_data(x=x, y=y, validate=True)\n",
    "\n",
    "train = np.hstack((x_train, y_train.reshape(-1, 1)))\n",
    "valid = np.hstack((x_valid, y_valid.reshape(-1, 1)))\n",
    "test = np.hstack((x_test, y_test.reshape(-1, 1)))\n",
    "\n",
    "train_ds = NewsDataset(data=train)\n",
    "valid_ds = NewsDataset(data=valid)\n",
    "test_ds = NewsDataset(data=test)\n",
    "\n",
    "train_dl = DataLoader(dataset=train_ds, batch_size=256, shuffle=True, num_workers=4)\n",
    "valid_dl = DataLoader(dataset=valid_ds, batch_size=256, num_workers=4)\n",
    "test_dl = DataLoader(dataset=test_ds, batch_size=256, num_workers=4)"
   ],
   "metadata": {
    "collapsed": false,
    "pycharm": {
     "name": "#%%\n"
    }
   }
  },
  {
   "cell_type": "code",
   "execution_count": null,
   "outputs": [],
   "source": [
    "model = train_classifier(dl_train=train_dl,\n",
    "                         dl_valid=valid_dl,\n",
    "                         num_classes=n_classes,\n",
    "                         epochs=20)"
   ],
   "metadata": {
    "collapsed": false,
    "pycharm": {
     "name": "#%%\n"
    }
   }
  },
  {
   "cell_type": "code",
   "execution_count": null,
   "outputs": [],
   "source": [
    "model_path = 'checkpoints/spacy_epoch=16-val_loss=0.880.ckpt'\n",
    "preds = make_prediction(dl_test=test_dl, path_to_model=main_path + model_path)"
   ],
   "metadata": {
    "collapsed": false,
    "pycharm": {
     "name": "#%%\n"
    }
   }
  }
 ],
 "metadata": {
  "kernelspec": {
   "display_name": "Python 3",
   "language": "python",
   "name": "python3"
  },
  "language_info": {
   "codemirror_mode": {
    "name": "ipython",
    "version": 2
   },
   "file_extension": ".py",
   "mimetype": "text/x-python",
   "name": "python",
   "nbconvert_exporter": "python",
   "pygments_lexer": "ipython2",
   "version": "2.7.6"
  }
 },
 "nbformat": 4,
 "nbformat_minor": 0
}